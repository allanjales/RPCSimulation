{
 "cells": [
  {
   "cell_type": "code",
   "execution_count": 1,
   "id": "8ec7a195-1467-4f49-a52d-346b6be76118",
   "metadata": {},
   "outputs": [],
   "source": [
    "import uproot\n",
    "import numpy as np\n",
    "file = uproot.open(\"../build/results/output_0.root\")\n",
    "#file.keys()"
   ]
  },
  {
   "cell_type": "code",
   "execution_count": 2,
   "id": "76a17dcd-402a-4c19-9965-bdabd48fc626",
   "metadata": {},
   "outputs": [
    {
     "data": {
      "text/plain": [
       "['fParticleID',\n",
       " 'fEvent',\n",
       " 'fRegionID',\n",
       " 'fPositionX',\n",
       " 'fPositionY',\n",
       " 'fPositionZ',\n",
       " 'fKinectEnergy',\n",
       " 'fCosTheta',\n",
       " 'fPhi',\n",
       " 'fStepLength']"
      ]
     },
     "execution_count": 2,
     "metadata": {},
     "output_type": "execute_result"
    }
   ],
   "source": [
    "tree = file[\"DetectedParticles\"]\n",
    "tree.keys()"
   ]
  },
  {
   "cell_type": "code",
   "execution_count": 4,
   "id": "bd8f9c4e-d705-49c3-b26c-5dd4d3da70c4",
   "metadata": {},
   "outputs": [
    {
     "ename": "KeyInFileError",
     "evalue": "not found: 'fCosTheta' (with any cycle number)\n\n    Available keys: 'DetectedParticles;1'\n\nin file ../build/results/output_0.root",
     "output_type": "error",
     "traceback": [
      "\u001b[0;31m---------------------------------------------------------------------------\u001b[0m",
      "\u001b[0;31mKeyInFileError\u001b[0m                            Traceback (most recent call last)",
      "Cell \u001b[0;32mIn[4], line 1\u001b[0m\n\u001b[0;32m----> 1\u001b[0m \u001b[43mfile\u001b[49m\u001b[43m[\u001b[49m\u001b[38;5;124;43m\"\u001b[39;49m\u001b[38;5;124;43mfCosTheta\u001b[39;49m\u001b[38;5;124;43m\"\u001b[39;49m\u001b[43m]\u001b[49m\u001b[38;5;241m.\u001b[39mto_hist()\n",
      "File \u001b[0;32m/usr/local/lib/python3.10/dist-packages/uproot/reading.py:2116\u001b[0m, in \u001b[0;36mReadOnlyDirectory.__getitem__\u001b[0;34m(self, where)\u001b[0m\n\u001b[1;32m   2113\u001b[0m     \u001b[38;5;28;01mreturn\u001b[39;00m step\n\u001b[1;32m   2115\u001b[0m \u001b[38;5;28;01melse\u001b[39;00m:\n\u001b[0;32m-> 2116\u001b[0m     \u001b[38;5;28;01mreturn\u001b[39;00m \u001b[38;5;28;43mself\u001b[39;49m\u001b[38;5;241;43m.\u001b[39;49m\u001b[43mkey\u001b[49m\u001b[43m(\u001b[49m\u001b[43mwhere\u001b[49m\u001b[43m)\u001b[49m\u001b[38;5;241m.\u001b[39mget()\n",
      "File \u001b[0;32m/usr/local/lib/python3.10/dist-packages/uproot/reading.py:2064\u001b[0m, in \u001b[0;36mReadOnlyDirectory.key\u001b[0;34m(self, where)\u001b[0m\n\u001b[1;32m   2062\u001b[0m     \u001b[38;5;28;01mreturn\u001b[39;00m last\n\u001b[1;32m   2063\u001b[0m \u001b[38;5;28;01melif\u001b[39;00m cycle \u001b[38;5;129;01mis\u001b[39;00m \u001b[38;5;28;01mNone\u001b[39;00m:\n\u001b[0;32m-> 2064\u001b[0m     \u001b[38;5;28;01mraise\u001b[39;00m uproot\u001b[38;5;241m.\u001b[39mKeyInFileError(\n\u001b[1;32m   2065\u001b[0m         item, cycle\u001b[38;5;241m=\u001b[39m\u001b[38;5;124m\"\u001b[39m\u001b[38;5;124many\u001b[39m\u001b[38;5;124m\"\u001b[39m, keys\u001b[38;5;241m=\u001b[39m\u001b[38;5;28mself\u001b[39m\u001b[38;5;241m.\u001b[39mkeys(), file_path\u001b[38;5;241m=\u001b[39m\u001b[38;5;28mself\u001b[39m\u001b[38;5;241m.\u001b[39m_file\u001b[38;5;241m.\u001b[39mfile_path\n\u001b[1;32m   2066\u001b[0m     )\n\u001b[1;32m   2067\u001b[0m \u001b[38;5;28;01melse\u001b[39;00m:\n\u001b[1;32m   2068\u001b[0m     \u001b[38;5;28;01mraise\u001b[39;00m uproot\u001b[38;5;241m.\u001b[39mKeyInFileError(\n\u001b[1;32m   2069\u001b[0m         item, cycle\u001b[38;5;241m=\u001b[39mcycle, keys\u001b[38;5;241m=\u001b[39m\u001b[38;5;28mself\u001b[39m\u001b[38;5;241m.\u001b[39mkeys(), file_path\u001b[38;5;241m=\u001b[39m\u001b[38;5;28mself\u001b[39m\u001b[38;5;241m.\u001b[39m_file\u001b[38;5;241m.\u001b[39mfile_path\n\u001b[1;32m   2070\u001b[0m     )\n",
      "\u001b[0;31mKeyInFileError\u001b[0m: not found: 'fCosTheta' (with any cycle number)\n\n    Available keys: 'DetectedParticles;1'\n\nin file ../build/results/output_0.root"
     ]
    }
   ],
   "source": [
    "file[\"fCosTheta\"].to_hist()"
   ]
  },
  {
   "cell_type": "code",
   "execution_count": null,
   "id": "9cdf62cd-f1d9-4242-994f-6b860f5d2193",
   "metadata": {},
   "outputs": [],
   "source": [
    "tree.arrays([\"fCosTheta\"], \"fRegionID == 0 & fParticleID == 11\")"
   ]
  },
  {
   "cell_type": "code",
   "execution_count": null,
   "id": "39d3aafc-c781-4d47-9d85-296dde87f811",
   "metadata": {},
   "outputs": [],
   "source": [
    "import pandas as pd\n",
    "df = tree.arrays([\"fParticleID\",\"fRegionID\",\"fCosTheta\"], library=\"pd\")\n",
    "df"
   ]
  },
  {
   "cell_type": "markdown",
   "id": "2101983c-3cc6-4c32-b0b3-94cb43177efa",
   "metadata": {},
   "source": [
    "# Symbol and ID\n",
    "\n",
    "<div style=\"display: flex; justify-content: space-between; width: 100%;\">\n",
    "  <table style=\"margin-right: 10px;\">\n",
    "    <tr>\n",
    "      <th colspan=\"2\">Quarks</th>\n",
    "    </tr>\n",
    "    <tr>\n",
    "      <th>Symbol</th>\n",
    "      <th>PDGID</th>\n",
    "    </tr>\n",
    "    <tr>\n",
    "      <td>d</td>\n",
    "      <td>1</td>\n",
    "    </tr>\n",
    "    <tr>\n",
    "      <td>u</td>\n",
    "      <td>2</td>\n",
    "    </tr>\n",
    "    <tr>\n",
    "      <td>s</td>\n",
    "      <td>3</td>\n",
    "    </tr>\n",
    "    <tr>\n",
    "      <td>c</td>\n",
    "      <td>4</td>\n",
    "    </tr>\n",
    "    <tr>\n",
    "      <td>b</td>\n",
    "      <td>5</td>\n",
    "    </tr>\n",
    "    <tr>\n",
    "      <td>t</td>\n",
    "      <td>6</td>\n",
    "    </tr>\n",
    "    <tr>\n",
    "      <td>b'</td>\n",
    "      <td>7</td>\n",
    "    </tr>\n",
    "    <tr>\n",
    "      <td>t'</td>\n",
    "      <td>8</td>\n",
    "    </tr>\n",
    "  </table>\n",
    "\n",
    "  <table style=\"margin-right: 10px;\">\n",
    "    <tr>\n",
    "      <th colspan=\"2\">Leptons</th>\n",
    "    </tr>\n",
    "    <tr>\n",
    "      <th>Symbol</th>\n",
    "      <th>PDGID</th>\n",
    "    </tr>\n",
    "    <tr>\n",
    "      <td>e<sup>-</sup></td>\n",
    "      <td>11</td>\n",
    "    </tr>\n",
    "    <tr>\n",
    "      <td>ν<sub>e</sub></td>\n",
    "      <td>12</td>\n",
    "    </tr>\n",
    "    <tr>\n",
    "      <td>μ<sup>-</sup></td>\n",
    "      <td>13</td>\n",
    "    </tr>\n",
    "    <tr>\n",
    "      <td>ν<sub>μ</sub></td>\n",
    "      <td>14</td>\n",
    "    </tr>\n",
    "    <tr>\n",
    "      <td>τ<sup>-</sup></td>\n",
    "      <td>15</td>\n",
    "    </tr>\n",
    "    <tr>\n",
    "      <td>ν<sub>τ</sub></td>\n",
    "      <td>16</td>\n",
    "    </tr>\n",
    "    <tr>\n",
    "      <td>τ'<sup>-</sup></td>\n",
    "      <td>17</td>\n",
    "    </tr>\n",
    "    <tr>\n",
    "      <td>ντ'</td>\n",
    "      <td>18</td>\n",
    "    </tr>\n",
    "  </table>\n",
    "\n",
    "  <table>\n",
    "    <tr>\n",
    "      <th colspan=\"2\">Gauge and Higgs Bosons</th>\n",
    "    </tr>\n",
    "    <tr>\n",
    "      <th>Symbol</th>\n",
    "      <th>PDGID</th>\n",
    "    </tr>\n",
    "    <tr>\n",
    "      <td>g</td>\n",
    "      <td>9 and 21</td>\n",
    "    </tr>\n",
    "    <tr>\n",
    "      <td>γ</td>\n",
    "      <td>22</td>\n",
    "    </tr>\n",
    "    <tr>\n",
    "      <td>Z</td>\n",
    "      <td>23</td>\n",
    "    </tr>\n",
    "    <tr>\n",
    "      <td>W^+</td>\n",
    "      <td>24</td>\n",
    "    </tr>\n",
    "    <tr>\n",
    "      <td>h^0 or H^0_1</td>\n",
    "      <td>25</td>\n",
    "    </tr>\n",
    "    <tr>\n",
    "      <td>H^+</td>\n",
    "      <td>37</td>\n",
    "    </tr>\n",
    "  </table>\n",
    "</div>\n"
   ]
  },
  {
   "cell_type": "code",
   "execution_count": null,
   "id": "b80c9245-a2d4-4e7b-8526-dd487727facd",
   "metadata": {},
   "outputs": [],
   "source": [
    "df_cut = df.query(\"fRegionID == 0 & fParticleID == 11\")"
   ]
  },
  {
   "cell_type": "code",
   "execution_count": null,
   "id": "c374664a-1e1b-4d43-aafe-55d9e748a21c",
   "metadata": {},
   "outputs": [],
   "source": [
    "import mplhep as hep\n",
    "hep.style.use(\"CMS\")\n",
    "hep.cms.text(\"Preliminary\")\n",
    "hep.histplot(np.histogram(df_cut[\"fCosTheta\"], bins=np.arange(-1,1,.01)))"
   ]
  }
 ],
 "metadata": {
  "kernelspec": {
   "display_name": "Python 3 (ipykernel)",
   "language": "python",
   "name": "python3"
  },
  "language_info": {
   "codemirror_mode": {
    "name": "ipython",
    "version": 3
   },
   "file_extension": ".py",
   "mimetype": "text/x-python",
   "name": "python",
   "nbconvert_exporter": "python",
   "pygments_lexer": "ipython3",
   "version": "3.10.12"
  }
 },
 "nbformat": 4,
 "nbformat_minor": 5
}
